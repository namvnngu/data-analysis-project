{
 "cells": [
  {
   "cell_type": "markdown",
   "metadata": {},
   "source": [
    "### The summary of data cleaning:\n",
    "1. Find and correct errors in nominal data\n",
    "2. Find and count the total number of missing values (nan/null) for each column\n",
    "3. Drop columns with more than 10% missing values\n",
    "4. Drop rows with more than 20% missing values\n",
    "5. Calculate z-score for columns with continous data and replace outliers by the mean\n",
    "6. Replace all missing values by implementing appropriate algorithms such as Linear Regression or the mean\n",
    "7. Visualizing each column with appropriate graphs."
   ]
  },
  {
   "cell_type": "code",
   "execution_count": 272,
   "metadata": {},
   "outputs": [],
   "source": [
    "# Import all necessary libraries\n",
    "import numpy as np\n",
    "import random\n",
    "import pandas as pd\n",
    "import matplotlib.pyplot as plt\n",
    "import sklearn\n",
    "import collections\n",
    "import datetime\n",
    "import json\n",
    "import re\n",
    "\n",
    "%matplotlib inline"
   ]
  },
  {
   "cell_type": "code",
   "execution_count": 273,
   "metadata": {},
   "outputs": [
    {
     "name": "stdout",
     "output_type": "stream",
     "text": [
      "Index(['Date', 'Location', 'MinTemp', 'MaxTemp', 'Rainfall', 'Evaporation',\n",
      "       'Sunshine', 'WindGustDir', 'WindGustSpeed', 'WindDir9am', 'WindDir3pm',\n",
      "       'WindSpeed9am', 'WindSpeed3pm', 'Humidity9am', 'Humidity3pm',\n",
      "       'Pressure9am', 'Pressure3pm', 'Cloud9am', 'Cloud3pm', 'Temp9am',\n",
      "       'Temp3pm', 'RainToday', 'RISK_MM', 'RainTomorrow'],\n",
      "      dtype='object')\n"
     ]
    },
    {
     "data": {
      "text/html": [
       "<div>\n",
       "<style scoped>\n",
       "    .dataframe tbody tr th:only-of-type {\n",
       "        vertical-align: middle;\n",
       "    }\n",
       "\n",
       "    .dataframe tbody tr th {\n",
       "        vertical-align: top;\n",
       "    }\n",
       "\n",
       "    .dataframe thead th {\n",
       "        text-align: right;\n",
       "    }\n",
       "</style>\n",
       "<table border=\"1\" class=\"dataframe\">\n",
       "  <thead>\n",
       "    <tr style=\"text-align: right;\">\n",
       "      <th></th>\n",
       "      <th>MinTemp</th>\n",
       "      <th>MaxTemp</th>\n",
       "      <th>Rainfall</th>\n",
       "      <th>Evaporation</th>\n",
       "      <th>Sunshine</th>\n",
       "      <th>WindGustSpeed</th>\n",
       "      <th>WindSpeed9am</th>\n",
       "      <th>WindSpeed3pm</th>\n",
       "      <th>Humidity9am</th>\n",
       "      <th>Humidity3pm</th>\n",
       "      <th>Pressure9am</th>\n",
       "      <th>Pressure3pm</th>\n",
       "      <th>Cloud9am</th>\n",
       "      <th>Cloud3pm</th>\n",
       "      <th>Temp9am</th>\n",
       "      <th>Temp3pm</th>\n",
       "      <th>RISK_MM</th>\n",
       "    </tr>\n",
       "  </thead>\n",
       "  <tbody>\n",
       "    <tr>\n",
       "      <th>count</th>\n",
       "      <td>141556.000000</td>\n",
       "      <td>141871.000000</td>\n",
       "      <td>140787.000000</td>\n",
       "      <td>81350.000000</td>\n",
       "      <td>74377.000000</td>\n",
       "      <td>132923.000000</td>\n",
       "      <td>140845.000000</td>\n",
       "      <td>139563.000000</td>\n",
       "      <td>140419.000000</td>\n",
       "      <td>138583.000000</td>\n",
       "      <td>128179.000000</td>\n",
       "      <td>128212.000000</td>\n",
       "      <td>88536.000000</td>\n",
       "      <td>85099.000000</td>\n",
       "      <td>141289.000000</td>\n",
       "      <td>139467.000000</td>\n",
       "      <td>142193.000000</td>\n",
       "    </tr>\n",
       "    <tr>\n",
       "      <th>mean</th>\n",
       "      <td>12.186400</td>\n",
       "      <td>23.226784</td>\n",
       "      <td>2.349974</td>\n",
       "      <td>5.469824</td>\n",
       "      <td>7.624853</td>\n",
       "      <td>39.984292</td>\n",
       "      <td>14.001988</td>\n",
       "      <td>18.637576</td>\n",
       "      <td>68.843810</td>\n",
       "      <td>51.482606</td>\n",
       "      <td>1017.653758</td>\n",
       "      <td>1015.258204</td>\n",
       "      <td>4.437189</td>\n",
       "      <td>4.503167</td>\n",
       "      <td>16.987509</td>\n",
       "      <td>21.687235</td>\n",
       "      <td>2.360682</td>\n",
       "    </tr>\n",
       "    <tr>\n",
       "      <th>std</th>\n",
       "      <td>6.403283</td>\n",
       "      <td>7.117618</td>\n",
       "      <td>8.465173</td>\n",
       "      <td>4.188537</td>\n",
       "      <td>3.781525</td>\n",
       "      <td>13.588801</td>\n",
       "      <td>8.893337</td>\n",
       "      <td>8.803345</td>\n",
       "      <td>19.051293</td>\n",
       "      <td>20.797772</td>\n",
       "      <td>7.105476</td>\n",
       "      <td>7.036677</td>\n",
       "      <td>2.887016</td>\n",
       "      <td>2.720633</td>\n",
       "      <td>6.492838</td>\n",
       "      <td>6.937594</td>\n",
       "      <td>8.477969</td>\n",
       "    </tr>\n",
       "    <tr>\n",
       "      <th>min</th>\n",
       "      <td>-8.500000</td>\n",
       "      <td>-4.800000</td>\n",
       "      <td>0.000000</td>\n",
       "      <td>0.000000</td>\n",
       "      <td>0.000000</td>\n",
       "      <td>6.000000</td>\n",
       "      <td>0.000000</td>\n",
       "      <td>0.000000</td>\n",
       "      <td>0.000000</td>\n",
       "      <td>0.000000</td>\n",
       "      <td>980.500000</td>\n",
       "      <td>977.100000</td>\n",
       "      <td>0.000000</td>\n",
       "      <td>0.000000</td>\n",
       "      <td>-7.200000</td>\n",
       "      <td>-5.400000</td>\n",
       "      <td>0.000000</td>\n",
       "    </tr>\n",
       "    <tr>\n",
       "      <th>25%</th>\n",
       "      <td>7.600000</td>\n",
       "      <td>17.900000</td>\n",
       "      <td>0.000000</td>\n",
       "      <td>2.600000</td>\n",
       "      <td>4.900000</td>\n",
       "      <td>31.000000</td>\n",
       "      <td>7.000000</td>\n",
       "      <td>13.000000</td>\n",
       "      <td>57.000000</td>\n",
       "      <td>37.000000</td>\n",
       "      <td>1012.900000</td>\n",
       "      <td>1010.400000</td>\n",
       "      <td>1.000000</td>\n",
       "      <td>2.000000</td>\n",
       "      <td>12.300000</td>\n",
       "      <td>16.600000</td>\n",
       "      <td>0.000000</td>\n",
       "    </tr>\n",
       "    <tr>\n",
       "      <th>50%</th>\n",
       "      <td>12.000000</td>\n",
       "      <td>22.600000</td>\n",
       "      <td>0.000000</td>\n",
       "      <td>4.800000</td>\n",
       "      <td>8.500000</td>\n",
       "      <td>39.000000</td>\n",
       "      <td>13.000000</td>\n",
       "      <td>19.000000</td>\n",
       "      <td>70.000000</td>\n",
       "      <td>52.000000</td>\n",
       "      <td>1017.600000</td>\n",
       "      <td>1015.200000</td>\n",
       "      <td>5.000000</td>\n",
       "      <td>5.000000</td>\n",
       "      <td>16.700000</td>\n",
       "      <td>21.100000</td>\n",
       "      <td>0.000000</td>\n",
       "    </tr>\n",
       "    <tr>\n",
       "      <th>75%</th>\n",
       "      <td>16.800000</td>\n",
       "      <td>28.200000</td>\n",
       "      <td>0.800000</td>\n",
       "      <td>7.400000</td>\n",
       "      <td>10.600000</td>\n",
       "      <td>48.000000</td>\n",
       "      <td>19.000000</td>\n",
       "      <td>24.000000</td>\n",
       "      <td>83.000000</td>\n",
       "      <td>66.000000</td>\n",
       "      <td>1022.400000</td>\n",
       "      <td>1020.000000</td>\n",
       "      <td>7.000000</td>\n",
       "      <td>7.000000</td>\n",
       "      <td>21.600000</td>\n",
       "      <td>26.400000</td>\n",
       "      <td>0.800000</td>\n",
       "    </tr>\n",
       "    <tr>\n",
       "      <th>max</th>\n",
       "      <td>33.900000</td>\n",
       "      <td>48.100000</td>\n",
       "      <td>371.000000</td>\n",
       "      <td>145.000000</td>\n",
       "      <td>14.500000</td>\n",
       "      <td>135.000000</td>\n",
       "      <td>130.000000</td>\n",
       "      <td>87.000000</td>\n",
       "      <td>100.000000</td>\n",
       "      <td>100.000000</td>\n",
       "      <td>1041.000000</td>\n",
       "      <td>1039.600000</td>\n",
       "      <td>9.000000</td>\n",
       "      <td>9.000000</td>\n",
       "      <td>40.200000</td>\n",
       "      <td>46.700000</td>\n",
       "      <td>371.000000</td>\n",
       "    </tr>\n",
       "  </tbody>\n",
       "</table>\n",
       "</div>"
      ],
      "text/plain": [
       "             MinTemp        MaxTemp       Rainfall   Evaporation  \\\n",
       "count  141556.000000  141871.000000  140787.000000  81350.000000   \n",
       "mean       12.186400      23.226784       2.349974      5.469824   \n",
       "std         6.403283       7.117618       8.465173      4.188537   \n",
       "min        -8.500000      -4.800000       0.000000      0.000000   \n",
       "25%         7.600000      17.900000       0.000000      2.600000   \n",
       "50%        12.000000      22.600000       0.000000      4.800000   \n",
       "75%        16.800000      28.200000       0.800000      7.400000   \n",
       "max        33.900000      48.100000     371.000000    145.000000   \n",
       "\n",
       "           Sunshine  WindGustSpeed   WindSpeed9am   WindSpeed3pm  \\\n",
       "count  74377.000000  132923.000000  140845.000000  139563.000000   \n",
       "mean       7.624853      39.984292      14.001988      18.637576   \n",
       "std        3.781525      13.588801       8.893337       8.803345   \n",
       "min        0.000000       6.000000       0.000000       0.000000   \n",
       "25%        4.900000      31.000000       7.000000      13.000000   \n",
       "50%        8.500000      39.000000      13.000000      19.000000   \n",
       "75%       10.600000      48.000000      19.000000      24.000000   \n",
       "max       14.500000     135.000000     130.000000      87.000000   \n",
       "\n",
       "         Humidity9am    Humidity3pm    Pressure9am    Pressure3pm  \\\n",
       "count  140419.000000  138583.000000  128179.000000  128212.000000   \n",
       "mean       68.843810      51.482606    1017.653758    1015.258204   \n",
       "std        19.051293      20.797772       7.105476       7.036677   \n",
       "min         0.000000       0.000000     980.500000     977.100000   \n",
       "25%        57.000000      37.000000    1012.900000    1010.400000   \n",
       "50%        70.000000      52.000000    1017.600000    1015.200000   \n",
       "75%        83.000000      66.000000    1022.400000    1020.000000   \n",
       "max       100.000000     100.000000    1041.000000    1039.600000   \n",
       "\n",
       "           Cloud9am      Cloud3pm        Temp9am        Temp3pm        RISK_MM  \n",
       "count  88536.000000  85099.000000  141289.000000  139467.000000  142193.000000  \n",
       "mean       4.437189      4.503167      16.987509      21.687235       2.360682  \n",
       "std        2.887016      2.720633       6.492838       6.937594       8.477969  \n",
       "min        0.000000      0.000000      -7.200000      -5.400000       0.000000  \n",
       "25%        1.000000      2.000000      12.300000      16.600000       0.000000  \n",
       "50%        5.000000      5.000000      16.700000      21.100000       0.000000  \n",
       "75%        7.000000      7.000000      21.600000      26.400000       0.800000  \n",
       "max        9.000000      9.000000      40.200000      46.700000     371.000000  "
      ]
     },
     "execution_count": 273,
     "metadata": {},
     "output_type": "execute_result"
    }
   ],
   "source": [
    "# Retrieve data\n",
    "data = pd.read_csv('data/weatherAUS.csv')\n",
    "columns = data.columns\n",
    "print(columns)\n",
    "data.describe()"
   ]
  },
  {
   "cell_type": "code",
   "execution_count": 274,
   "metadata": {},
   "outputs": [
    {
     "name": "stdout",
     "output_type": "stream",
     "text": [
      "Date: The date of observation\n",
      "\n",
      "Location: The common name of the location of the weather station\n",
      "\n",
      "MinTemp: The minimum temperature in degrees celsius\n",
      "\n",
      "MaxTemp: The maximum temperature in degrees celsius\n",
      "\n",
      "Rainfall: The amount of rainfall recorded for the day in mm\n",
      "\n",
      "Evaporation: The so-called Class A pan evaporation (mm) in the 24 hours to 9am\n",
      "\n",
      "Sunshine: The number of hours of bright sunshine in the day\n",
      "\n",
      "WindGustDir: The direction of the strongest wind gust in the 24 hours to midnight\n",
      "\n",
      "WindGustSpeed: The speed (km/h) of the strongest wind gust in the 24 hours to midnight\n",
      "\n",
      "WindDir9am: Direction of the wind at 9am\n",
      "\n",
      "WindDir3pm: Direction of the wind at 3pm\n",
      "\n",
      "WindSpeed9am: Wind speed (km/hr) averaged over 10 minutes prior to 9am\n",
      "\n",
      "WindSpeed3pm: Wind speed (km/hr) averaged over 10 minutes prior to 3pm\n",
      "\n",
      "Humidity9am: Humidity (percent) at 9am\n",
      "\n",
      "Humidity3pm: Humidity (percent) at 3pm\n",
      "\n",
      "Pressure9am: Atmospheric pressure (hpa) reduced to mean sea level at 9am\n",
      "\n",
      "Pressure3pm: Atmospheric pressure (hpa) reduced to mean sea level at 3pm\n",
      "\n",
      "Cloud9am: Fraction of sky obscured by cloud at 9am. This is measured in 'oktas', which are a unit of eigths. It records how many eigths of the sky are obscured by cloud. A 0 measure indicates completely clear sky whilst an 8 indicates that it is completely overcast.\n",
      "\n",
      "Cloud3pm: Fraction of sky obscured by cloud (in 'oktas': eighths) at 3pm. See Cload9am for a description of the values\n",
      "\n",
      "Temp9am: Temperature (degrees C) at 9am\n",
      "\n",
      "Temp3pm: Temperature (degrees C) at 3pm\n",
      "\n",
      "RainToday: Boolean: 1 if precipitation (mm) in the 24 hours to 9am exceeds 1mm, otherwise 0\n",
      "\n",
      "RISK_MM: The amount of next day rain in mm. Used to create response variable RainTomorrow. A kind of measure of the 'risk'.\n",
      "\n",
      "RainTomorrow: The target variable. Did it rain tomorrow?\n",
      "\n"
     ]
    }
   ],
   "source": [
    "# Data information\n",
    "with open('data/data_info.json', 'r') as fp:\n",
    "    data_info = json.load(fp)\n",
    "\n",
    "for key, value in data_info.items():\n",
    "    print(f'{key}: {value}')\n",
    "    print(\"\")"
   ]
  },
  {
   "cell_type": "markdown",
   "metadata": {},
   "source": [
    "### 1. Find and correct errors in nominal columns"
   ]
  },
  {
   "cell_type": "code",
   "execution_count": 275,
   "metadata": {},
   "outputs": [
    {
     "name": "stdout",
     "output_type": "stream",
     "text": [
      "The nominal columns: Date, Location, WindGustDir, WindDir9am, WindDir3pm, RainToday, RainTomorrow\n"
     ]
    }
   ],
   "source": [
    "\"\"\"\n",
    "Find nominal columns by searching non-float columns\n",
    "\"\"\"\n",
    "\n",
    "string_columns = []\n",
    "float_columns = []\n",
    "data_types = data.dtypes.values\n",
    "\n",
    "for index in range(len(data_types)):\n",
    "    if data_types[index] != np.dtype('float64'):\n",
    "        string_columns.append(index)\n",
    "    else:\n",
    "        float_columns.append(index)\n",
    "        \n",
    "nominal_columns = [columns[col] for col in string_columns]\n",
    "print(\"The nominal columns:\", \", \".join(nominal_columns))"
   ]
  },
  {
   "cell_type": "code",
   "execution_count": 276,
   "metadata": {},
   "outputs": [
    {
     "name": "stdout",
     "output_type": "stream",
     "text": [
      "There are no invalid date in 'Date' column in terms of format.\n"
     ]
    }
   ],
   "source": [
    "\"\"\"\n",
    "Evaluate Date\n",
    "\"\"\"\n",
    "# Define a function to check if the date is valid\n",
    "def check_valid_format(date):\n",
    "    date_format = '%Y-%m-%d'\n",
    "    try:\n",
    "        datetime.datetime.strptime(date, date_format)\n",
    "        return True\n",
    "    except ValueError:\n",
    "        return False\n",
    "    \n",
    "# In order to reduce iteration time, find all unique dates\n",
    "unique_date = set(data[nominal_columns[0]])\n",
    "\n",
    "# An array of boolean values: True if value; otherwise, False\n",
    "is_valid_date_format = []\n",
    "for date in unique_date:\n",
    "    is_valid_date_format.append(check_valid_format(date))\n",
    "    \n",
    "# Find invalid data corresponding to False\n",
    "count = 0\n",
    "invalid_date = []\n",
    "for index in range(len(is_valid_date_format)):\n",
    "    if is_valid_date_format[index] == False:\n",
    "        count += 1\n",
    "        invalid_date.append(is_vaid_date_format[index])\n",
    "        \n",
    "if count == 0:\n",
    "    print(\"There are no invalid date in 'Date' column in terms of format.\")"
   ]
  },
  {
   "cell_type": "code",
   "execution_count": 277,
   "metadata": {},
   "outputs": [
    {
     "name": "stdout",
     "output_type": "stream",
     "text": [
      "***Before fixed: Penrith, Nhil, Moree, Newcastle, Bendigo, PerthAirport, Perth, WaggaWagga, Townsville, Sale, Nuriootpa, Woomera, Mildura, SydneyAirport, Albany, MountGambier, Witchcliffe, CoffsHarbour, Albury, AliceSprings, SalmonGums, Ballarat, Portland, Canberra, Brisbane, GoldCoast, Adelaide, Melbourne, NorfolkIsland, Watsonia, Darwin, Dartmoor, Richmond, BadgerysCreek, Katherine, Wollongong, Cobar, MountGinini, Cairns, PearceRAAF, Hobart, MelbourneAirport, Launceston, NorahHead, Williamtown, Sydney, Tuggeranong, Walpole, Uluru\n",
      "\n",
      "***After fixed: Penrith, Nhil, Moree, Newcastle, Bendigo, Perth Airport, Perth, Wagga Wagga, Townsville, Sale, Nuriootpa, Woomera, Mildura, Sydney Airport, Albany, Mount Gambier, Witchcliffe, Coffs Harbour, Albury, Alice Springs, Salmon Gums, Ballarat, Portland, Canberra, Brisbane, Gold Coast, Adelaide, Melbourne, Norfolk Island, Watsonia, Darwin, Dartmoor, Richmond, Badgerys Creek, Katherine, Wollongong, Cobar, Mount Ginini, Cairns, Pearce RA AF, Hobart, Melbourne Airport, Launceston, Norah Head, Williamtown, Sydney, Tuggeranong, Walpole, Uluru\n"
     ]
    }
   ],
   "source": [
    "\"\"\"\n",
    "Evaluate Location\n",
    "\"\"\"\n",
    "# In order to reduce iteration time, find all unique location\n",
    "unique_location = set(data[nominal_columns[1]])\n",
    "print(\"***Before fixed:\", \", \".join(unique_location))\n",
    "print(\"\")\n",
    "\n",
    "# There are some locations needed to be fixed\n",
    "# Insert a space before capitcal letter if the location\n",
    "# name has 2 words\n",
    "fixed_location = []\n",
    "for location in unique_location:\n",
    "    fixed_name = re.sub(r\"(\\w)([A-Z])\", r\"\\1 \\2\", location)\n",
    "    fixed_location.append(fixed_name)\n",
    "\n",
    "print(\"***After fixed:\",\", \".join(fixed_location))\n",
    "\n",
    "# Replace the old locations with the fixed locations\n",
    "data = data.replace(unique_location, fixed_location)"
   ]
  },
  {
   "cell_type": "code",
   "execution_count": 278,
   "metadata": {},
   "outputs": [
    {
     "name": "stdout",
     "output_type": "stream",
     "text": [
      "The direction: NW, WNW, ENE, SE, W, WSW, NE, NNE, ESE, SSE, SSW, SW, S, E, N, NNW\n",
      "There is no invalid data in WinGusGir column in terms of format.\n"
     ]
    }
   ],
   "source": [
    "\"\"\"\n",
    "WindGustDir\n",
    "\"\"\"\n",
    "# In order to reduce iteration time, find all unique WindGustDir\n",
    "unique_WindGustDir = list(set(data[nominal_columns[2]]))\n",
    "print(\"The direction:\", \", \".join(unique_WindGustDir[1:]))\n",
    "\n",
    "print(\"There is no invalid data in WinGusGir column in terms of format.\")"
   ]
  },
  {
   "cell_type": "code",
   "execution_count": 279,
   "metadata": {},
   "outputs": [
    {
     "name": "stdout",
     "output_type": "stream",
     "text": [
      "The direction: SE, NW, ENE, WNW, W, NE, WSW, NNE, ESE, SSE, SSW, SW, S, E, N, NNW\n",
      "There is no invalid data in WindDir9am column in terms of format.\n"
     ]
    }
   ],
   "source": [
    "\"\"\"\n",
    "WindDir9am\n",
    "\"\"\"\n",
    "# In order to reduce iteration time, find all unique WindDir9am\n",
    "unique_WindDir9am = list(set(data[nominal_columns[3]]))\n",
    "print(\"The direction:\", \", \".join(unique_WindDir9am[1:]))\n",
    "\n",
    "print(\"There is no invalid data in WindDir9am column in terms of format.\")"
   ]
  },
  {
   "cell_type": "code",
   "execution_count": 280,
   "metadata": {},
   "outputs": [
    {
     "name": "stdout",
     "output_type": "stream",
     "text": [
      "The direction: SE, NW, ENE, WNW, W, NE, WSW, NNE, ESE, SSE, SSW, SW, S, E, N, NNW\n",
      "There is no invalid data in WindDir3pm cloumn in terms of format.\n"
     ]
    }
   ],
   "source": [
    "\"\"\"\n",
    "WindDir3pm\n",
    "\"\"\"\n",
    "# In order to reduce iteration time, find all unique WindDir3pm\n",
    "unique_WindDir3pm = list(set(data[nominal_columns[4]]))\n",
    "print(\"The direction:\", \", \".join(unique_WindDir9am[1:]))\n",
    "\n",
    "print(\"There is no invalid data in WindDir3pm cloumn in terms of format.\")"
   ]
  },
  {
   "cell_type": "code",
   "execution_count": 281,
   "metadata": {},
   "outputs": [
    {
     "name": "stdout",
     "output_type": "stream",
     "text": [
      "The values: Yes, No\n",
      "There is no invalid data in RainToday cloumn in terms of grammar.\n"
     ]
    }
   ],
   "source": [
    "\"\"\"\n",
    "RainToday\n",
    "\"\"\"\n",
    "# In order to reduce iteration time, find all unique RainToday\n",
    "unique_RainToday = list(set(data[nominal_columns[5]]))\n",
    "print(\"The values:\", \", \".join(unique_RainToday[1:]))\n",
    "\n",
    "print(\"There is no invalid data in RainToday cloumn in terms of grammar.\")"
   ]
  },
  {
   "cell_type": "code",
   "execution_count": 282,
   "metadata": {},
   "outputs": [
    {
     "name": "stdout",
     "output_type": "stream",
     "text": [
      "The values: Yes, No\n",
      "There is no invalid data in RainTomorrow cloumn in terms of grammar.\n"
     ]
    }
   ],
   "source": [
    "\"\"\"\n",
    "RainTomorrow\n",
    "\"\"\"\n",
    "# In order to reduce iteration time, find all unique RainTomorrow\n",
    "unique_RainTomorrow = list(set(data[nominal_columns[6]]))\n",
    "print(\"The values:\", \", \".join(unique_RainTomorrow))\n",
    "\n",
    "print(\"There is no invalid data in RainTomorrow cloumn in terms of grammar.\")"
   ]
  },
  {
   "cell_type": "markdown",
   "metadata": {},
   "source": [
    "### 2. Find and count the total number of missing values (nan/null) for each column"
   ]
  },
  {
   "cell_type": "code",
   "execution_count": 293,
   "metadata": {},
   "outputs": [
    {
     "name": "stdout",
     "output_type": "stream",
     "text": [
      "There are no nan values in Date.\n",
      "There are no nan values in Location.\n",
      "The number of nan value in MinTemp: 637\n",
      "The number of nan value in MaxTemp: 322\n",
      "The number of nan value in Rainfall: 1406\n",
      "The number of nan value in Evaporation: 60843\n",
      "The number of nan value in Sunshine: 67816\n",
      "The number of nan value in WindGustDir: 9330\n",
      "The number of nan value in WindGustSpeed: 9270\n",
      "The number of nan value in WindDir9am: 10013\n",
      "The number of nan value in WindDir3pm: 3778\n",
      "The number of nan value in WindSpeed9am: 1348\n",
      "The number of nan value in WindSpeed3pm: 2630\n",
      "The number of nan value in Humidity9am: 1774\n",
      "The number of nan value in Humidity3pm: 3610\n",
      "The number of nan value in Pressure9am: 14014\n",
      "The number of nan value in Pressure3pm: 13981\n",
      "The number of nan value in Cloud9am: 53657\n",
      "The number of nan value in Cloud3pm: 57094\n",
      "The number of nan value in Temp9am: 904\n",
      "The number of nan value in Temp3pm: 2726\n",
      "The number of nan value in RainToday: 1406\n",
      "There are no nan values in RISK_MM.\n",
      "There are no nan values in RainTomorrow.\n"
     ]
    }
   ],
   "source": [
    "def count_nan(column, data):\n",
    "    count = int(data[column].isna().sum())\n",
    "    return count\n",
    "\n",
    "def print_index(count, column):\n",
    "    if count == 0:\n",
    "        print(f\"There are no nan values in {column}.\")\n",
    "    else:\n",
    "        print(f\"The number of nan value in {column}: {count}\")\n",
    "\n",
    "nan_count_list = [] # Used for step 3\n",
    "for column_order in range(0, data.shape[1]):\n",
    "    nan_count = count_nan(column=columns[column_order], data=data)\n",
    "    nan_count_list.append(nan_count)\n",
    "    print_index(nan_count, columns[column_order])"
   ]
  },
  {
   "cell_type": "markdown",
   "metadata": {},
   "source": [
    "### 3. Drop columns with more than 10% missing values"
   ]
  },
  {
   "cell_type": "code",
   "execution_count": 296,
   "metadata": {},
   "outputs": [
    {
     "name": "stdout",
     "output_type": "stream",
     "text": [
      "The columns with more than 10% missing values: Evaporation, Sunshine, Cloud9am, Cloud3pm\n"
     ]
    }
   ],
   "source": [
    "# Find columns with missing values (nan)\n",
    "missing_value_dict = dict() # Key: Column name; Value: the number of nan\n",
    "for index in range(len(nan_count_list)):\n",
    "    if nan_count_list[index] != 0:\n",
    "        missing_value_dict[columns[index]] = nan_count_list[index]\n",
    "\n",
    "# Calculate percent of missing value for each column\n",
    "percent_nan_dict = dict()\n",
    "for key, value in missing_value_dict.items():\n",
    "    percent_nan_dict[key] = (value / data.shape[0]) * 100\n",
    "    \n",
    "# Find corrensponding columns for columns with more than 10% missing values\n",
    "removed_columns = []\n",
    "for key, value in percent_nan_dict.items():\n",
    "    if(value > 10):\n",
    "        removed_columns.append(key)\n",
    "\n",
    "if removed_columns!= []:\n",
    "    print(\"The columns with more than 10% missing values:\", \", \".join(removed_columns))\n",
    "\n",
    "    data.drop(columns=removed_columns, inplace=True)\n",
    "else:\n",
    "    print(\"There are no columns with more than 10% missing values\")"
   ]
  },
  {
   "cell_type": "markdown",
   "metadata": {},
   "source": [
    "### 4. Drop rows with more than 20% missing values"
   ]
  },
  {
   "cell_type": "code",
   "execution_count": 326,
   "metadata": {},
   "outputs": [],
   "source": [
    "# Find rows with missing values (nan)\n",
    "missing_values_dict = dict()\n",
    "\n",
    "# Count the total number of missing values for each row\n",
    "for i in range(0, data.shape[0]):\n",
    "    total_missing_value = 0\n",
    "    is_nan_list = np.array(data.iloc[i:i+1,:].isnull())[0]\n",
    "    total_missing_value = np.count_nonzero(is_nan_list)  \n",
    "    missing_values_dict[i] = total_missing_value"
   ]
  },
  {
   "cell_type": "code",
   "execution_count": 335,
   "metadata": {},
   "outputs": [
    {
     "name": "stdout",
     "output_type": "stream",
     "text": [
      "There are no rows with more than 20% missing values\n"
     ]
    }
   ],
   "source": [
    "# Calculate percent of missing value for each row\n",
    "percent_nan_dict = dict()\n",
    "for key, value in missing_values_dict.items():\n",
    "    percent_nan_dict[key] = (value / data.shape[0]) * 100\n",
    "\n",
    "# Find corrensponding rows for rows with more than 20% missing values\n",
    "removed_rows = []\n",
    "for key, value in percent_nan_dict.items():\n",
    "    if(value > 20):\n",
    "        removed_rows.append(key)\n",
    "\n",
    "if removed_rows != []:\n",
    "    print(\"The rows with more than w0% missing values:\", \", \".join(removed_columns))\n",
    "\n",
    "    data.drop(removed_columns, inplace=True)\n",
    "else:\n",
    "    print(\"There are no rows with more than 20% missing values\")"
   ]
  },
  {
   "cell_type": "markdown",
   "metadata": {},
   "source": [
    "### 5.Calculate z-score for columns with continous data and replace outliers by the mean"
   ]
  },
  {
   "cell_type": "code",
   "execution_count": null,
   "metadata": {},
   "outputs": [],
   "source": []
  }
 ],
 "metadata": {
  "kernelspec": {
   "display_name": "Python 3",
   "language": "python",
   "name": "python3"
  },
  "language_info": {
   "codemirror_mode": {
    "name": "ipython",
    "version": 3
   },
   "file_extension": ".py",
   "mimetype": "text/x-python",
   "name": "python",
   "nbconvert_exporter": "python",
   "pygments_lexer": "ipython3",
   "version": "3.7.5"
  }
 },
 "nbformat": 4,
 "nbformat_minor": 4
}
